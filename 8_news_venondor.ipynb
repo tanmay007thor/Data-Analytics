{
  "nbformat": 4,
  "nbformat_minor": 0,
  "metadata": {
    "colab": {
      "provenance": []
    },
    "kernelspec": {
      "name": "python3",
      "display_name": "Python 3"
    },
    "language_info": {
      "name": "python"
    }
  },
  "cells": [
    {
      "cell_type": "code",
      "execution_count": null,
      "metadata": {
        "id": "kgrjzQSBkV6Q"
      },
      "outputs": [],
      "source": [
        "import math\n",
        "import numpy as np\n",
        "import matplotlib.pyplot as plt\n",
        "from scipy.optimize import minimize_scalar"
      ]
    },
    {
      "cell_type": "code",
      "source": [
        "# Q: Order quantity.\n",
        "# P: Selling price.\n",
        "# C: Unit cost.\n",
        "# D: Demand.\n",
        "# S: Salvage value.\n",
        "\n",
        "P = float(input(\"Selling price: \"))\n",
        "C = float(input(\"Unit cost: \"))\n",
        "D = float(input(\"Demand: \"))\n",
        "S = float(input(\"Salvage value: \"))"
      ],
      "metadata": {
        "colab": {
          "base_uri": "https://localhost:8080/"
        },
        "id": "6YNWXInbIft2",
        "outputId": "b3b0f84f-d8c4-4b47-d3d0-829a6bf3d400"
      },
      "execution_count": null,
      "outputs": [
        {
          "name": "stdout",
          "output_type": "stream",
          "text": [
            "Selling price: 10\n",
            "Unit cost: 8\n",
            "Demand: 50\n",
            "Salvage value: 0\n"
          ]
        }
      ]
    },
    {
      "cell_type": "code",
      "source": [
        "min_Q = float(input(\"Minimum order quantity: \"))\n",
        "max_Q = float(input(\"Maximum order quantity: \"))"
      ],
      "metadata": {
        "colab": {
          "base_uri": "https://localhost:8080/"
        },
        "id": "AYS_XHwHNd0t",
        "outputId": "050bbedd-221b-4c36-fe24-2400c9cddadf"
      },
      "execution_count": null,
      "outputs": [
        {
          "name": "stdout",
          "output_type": "stream",
          "text": [
            "Minimum order quantity: 500\n",
            "Maximum order quantity: 1000\n"
          ]
        }
      ]
    },
    {
      "cell_type": "code",
      "source": [
        "def calculate_profit(Q, P, C, D, S):\n",
        "  revenue = (P-C)*min(D, Q)\n",
        "  sa\n",
        "  overstock_loss = (C-S)*max(0, Q-D)\n",
        "\n",
        "  profit = revenue - salvage_return\n",
        "\n",
        "  return -profit"
      ],
      "metadata": {
        "id": "7MmcJA-TJ50s"
      },
      "execution_count": null,
      "outputs": []
    },
    {
      "cell_type": "code",
      "source": [
        "bounds = [min_Q, max_Q]\n",
        "result = minimize_scalar(calculate_profit, args=(P, C, D, S), bounds=bounds, method='bounded')"
      ],
      "metadata": {
        "id": "nYoo0iIXK7mX"
      },
      "execution_count": null,
      "outputs": []
    },
    {
      "cell_type": "code",
      "source": [
        "optimal_Q = math.floor(result.x)\n",
        "max_profit = result.fun\n",
        "\n",
        "\n",
        "print(\"Optimal order quantity:\", optimal_Q)\n",
        "print(\"Maximum profit:\", np.round(max_profit, 2))"
      ],
      "metadata": {
        "colab": {
          "base_uri": "https://localhost:8080/"
        },
        "id": "hza7NeuCL1Np",
        "outputId": "260e5b05-7ef4-4982-c2d2-43a75c550cc5"
      },
      "execution_count": null,
      "outputs": [
        {
          "output_type": "stream",
          "name": "stdout",
          "text": [
            "Optimal order quantity: 500\n",
            "Maximum profit: 3500.0\n"
          ]
        }
      ]
    },
    {
      "cell_type": "code",
      "source": [
        "Q_vals = np.arange(0, max_Q, 1)\n",
        "\n",
        "proft_vals = []\n",
        "for i in range(len(Q_vals)):\n",
        "  temp_result = calculate_profit(Q_vals[i], P, C, D, S)\n",
        "\n",
        "  proft_vals.append(-temp_result)"
      ],
      "metadata": {
        "id": "yZVVt04yL7D3"
      },
      "execution_count": null,
      "outputs": []
    },
    {
      "cell_type": "code",
      "source": [
        "plt.plot(Q_vals, proft_vals)\n",
        "plt.scatter(optimal_Q, max_profit, color='r', marker='*', s=100, label='Optimal Order Quantity')\n",
        "\n",
        "plt.title('Profit vs Order Quantity')\n",
        "plt.xlabel('Order Quantity (q)')\n",
        "plt.ylabel('Profit')\n",
        "\n",
        "plt.grid(True)\n",
        "plt.legend()\n",
        "plt.show()"
      ],
      "metadata": {
        "colab": {
          "base_uri": "https://localhost:8080/",
          "height": 472
        },
        "id": "TWLK8sCYMenp",
        "outputId": "554e1298-db21-414e-d786-b72678f3a576"
      },
      "execution_count": null,
      "outputs": [
        {
          "output_type": "display_data",
          "data": {
            "text/plain": [
              "<Figure size 640x480 with 1 Axes>"
            ],
            "image/png": "[encoded data removed]"
          },
          "metadata": {}
        }
      ]
    }
  ]
}