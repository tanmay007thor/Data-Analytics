{
 "cells": [
  {
   "cell_type": "code",
   "execution_count": 7,
   "metadata": {},
   "outputs": [
    {
     "name": "stdout",
     "output_type": "stream",
     "text": [
      "the mean is  13.1\n"
     ]
    }
   ],
   "source": [
    "# mean\n",
    "x = [2 , 3, 4, 50 , 8 , 8, 9 ,1 , 23 , 23]\n",
    "count = 0 \n",
    "total = 0 \n",
    "for i in x :\n",
    "    count += 1\n",
    "    total += i \n",
    "print(\"the mean is \" ,total / count)\n"
   ]
  },
  {
   "cell_type": "code",
   "execution_count": 8,
   "metadata": {},
   "outputs": [
    {
     "name": "stdout",
     "output_type": "stream",
     "text": [
      "[0.04, 0.06, 0.08, 1.0, 0.16, 0.16, 0.18, 0.02, 0.46, 0.46]\n"
     ]
    }
   ],
   "source": [
    "# normal distribution\n",
    "x = [2 , 3, 4, 50 , 8 , 8, 9 ,1 , 23 , 23]\n",
    "ans = []\n",
    "for i in x :\n",
    "    ans.append(i / max(x))\n",
    "print(ans)"
   ]
  },
  {
   "cell_type": "code",
   "execution_count": 12,
   "metadata": {},
   "outputs": [
    {
     "name": "stdout",
     "output_type": "stream",
     "text": [
      "208.09\n"
     ]
    }
   ],
   "source": [
    "# sigma square \n",
    "import numpy as np \n",
    "x = [2 , 3, 4, 50 , 8 , 8, 9 ,1 , 23 , 23]\n",
    "N = len(x)\n",
    "ans = []\n",
    "count = 0 \n",
    "total = 0 \n",
    "for i in x :\n",
    "    count += 1\n",
    "    total += i \n",
    "X = total / count\n",
    "new_total = 0\n",
    "\n",
    "for i in x :\n",
    "    new_total += abs(i - X) * abs(i - X)\n",
    "solution = new_total / N \n",
    "print(solution)\n"
   ]
  },
  {
   "cell_type": "code",
   "execution_count": 11,
   "metadata": {},
   "outputs": [
    {
     "ename": "AttributeError",
     "evalue": "module 'numpy' has no attribute 't'",
     "output_type": "error",
     "traceback": [
      "\u001b[1;31m---------------------------------------------------------------------------\u001b[0m",
      "\u001b[1;31mAttributeError\u001b[0m                            Traceback (most recent call last)",
      "Cell \u001b[1;32mIn[11], line 42\u001b[0m\n\u001b[0;32m     39\u001b[0m group1 \u001b[38;5;241m=\u001b[39m [\u001b[38;5;241m85\u001b[39m, \u001b[38;5;241m90\u001b[39m, \u001b[38;5;241m88\u001b[39m, \u001b[38;5;241m78\u001b[39m, \u001b[38;5;241m92\u001b[39m, \u001b[38;5;241m95\u001b[39m, \u001b[38;5;241m89\u001b[39m, \u001b[38;5;241m82\u001b[39m, \u001b[38;5;241m88\u001b[39m, \u001b[38;5;241m75\u001b[39m]\n\u001b[0;32m     40\u001b[0m group2 \u001b[38;5;241m=\u001b[39m [\u001b[38;5;241m78\u001b[39m, \u001b[38;5;241m80\u001b[39m, \u001b[38;5;241m85\u001b[39m, \u001b[38;5;241m76\u001b[39m, \u001b[38;5;241m83\u001b[39m, \u001b[38;5;241m88\u001b[39m, \u001b[38;5;241m80\u001b[39m, \u001b[38;5;241m79\u001b[39m, \u001b[38;5;241m82\u001b[39m, \u001b[38;5;241m80\u001b[39m]\n\u001b[1;32m---> 42\u001b[0m \u001b[43mperform_t_test\u001b[49m\u001b[43m(\u001b[49m\u001b[43mgroup1\u001b[49m\u001b[43m,\u001b[49m\u001b[43m \u001b[49m\u001b[43mgroup2\u001b[49m\u001b[43m)\u001b[49m\n",
      "Cell \u001b[1;32mIn[11], line 30\u001b[0m, in \u001b[0;36mperform_t_test\u001b[1;34m(group1, group2, alpha)\u001b[0m\n\u001b[0;32m     26\u001b[0m t_statistic \u001b[38;5;241m=\u001b[39m calculate_t_statistic(group1, group2)\n\u001b[0;32m     28\u001b[0m degrees_of_freedom \u001b[38;5;241m=\u001b[39m \u001b[38;5;28mlen\u001b[39m(group1) \u001b[38;5;241m+\u001b[39m \u001b[38;5;28mlen\u001b[39m(group2) \u001b[38;5;241m-\u001b[39m \u001b[38;5;241m2\u001b[39m\n\u001b[1;32m---> 30\u001b[0m critical_t_value \u001b[38;5;241m=\u001b[39m \u001b[43mnp\u001b[49m\u001b[38;5;241;43m.\u001b[39;49m\u001b[43mt\u001b[49m\u001b[38;5;241m.\u001b[39mppf(\u001b[38;5;241m1\u001b[39m \u001b[38;5;241m-\u001b[39m alpha \u001b[38;5;241m/\u001b[39m \u001b[38;5;241m2\u001b[39m, degrees_of_freedom)\n\u001b[0;32m     32\u001b[0m p_value \u001b[38;5;241m=\u001b[39m \u001b[38;5;241m2\u001b[39m \u001b[38;5;241m*\u001b[39m (\u001b[38;5;241m1\u001b[39m \u001b[38;5;241m-\u001b[39m np\u001b[38;5;241m.\u001b[39mt\u001b[38;5;241m.\u001b[39mcdf(\u001b[38;5;28mabs\u001b[39m(t_statistic), degrees_of_freedom))\n\u001b[0;32m     34\u001b[0m \u001b[38;5;28;01mif\u001b[39;00m \u001b[38;5;28mabs\u001b[39m(t_statistic) \u001b[38;5;241m>\u001b[39m critical_t_value \u001b[38;5;129;01mor\u001b[39;00m p_value \u001b[38;5;241m<\u001b[39m alpha:\n",
      "File \u001b[1;32m~\\AppData\\Local\\Packages\\PythonSoftwareFoundation.Python.3.11_qbz5n2kfra8p0\\LocalCache\\local-packages\\Python311\\site-packages\\numpy\\__init__.py:347\u001b[0m, in \u001b[0;36m__getattr__\u001b[1;34m(attr)\u001b[0m\n\u001b[0;32m    344\u001b[0m     \u001b[38;5;124m\"\u001b[39m\u001b[38;5;124mRemoved in NumPy 1.25.0\u001b[39m\u001b[38;5;124m\"\u001b[39m\n\u001b[0;32m    345\u001b[0m     \u001b[38;5;28;01mraise\u001b[39;00m \u001b[38;5;167;01mRuntimeError\u001b[39;00m(\u001b[38;5;124m\"\u001b[39m\u001b[38;5;124mTester was removed in NumPy 1.25.\u001b[39m\u001b[38;5;124m\"\u001b[39m)\n\u001b[1;32m--> 347\u001b[0m \u001b[38;5;28;01mraise\u001b[39;00m \u001b[38;5;167;01mAttributeError\u001b[39;00m(\u001b[38;5;124m\"\u001b[39m\u001b[38;5;124mmodule \u001b[39m\u001b[38;5;132;01m{!r}\u001b[39;00m\u001b[38;5;124m has no attribute \u001b[39m\u001b[38;5;124m\"\u001b[39m\n\u001b[0;32m    348\u001b[0m                      \u001b[38;5;124m\"\u001b[39m\u001b[38;5;132;01m{!r}\u001b[39;00m\u001b[38;5;124m\"\u001b[39m\u001b[38;5;241m.\u001b[39mformat(\u001b[38;5;18m__name__\u001b[39m, attr))\n",
      "\u001b[1;31mAttributeError\u001b[0m: module 'numpy' has no attribute 't'"
     ]
    }
   ],
   "source": [
    "import numpy as np\n",
    "\n",
    "def calculate_mean(data):\n",
    "    return sum(data) / len(data)\n",
    "\n",
    "def calculate_variance(data, mean):\n",
    "    return sum((x - mean) ** 2 for x in data) / (len(data) - 1)\n",
    "\n",
    "def calculate_t_statistic(group1, group2):\n",
    "    mean1 = calculate_mean(group1)\n",
    "    mean2 = calculate_mean(group2)\n",
    "\n",
    "    variance1 = calculate_variance(group1, mean1)\n",
    "    variance2 = calculate_variance(group2, mean2)\n",
    "\n",
    "    n1 = len(group1)\n",
    "    n2 = len(group2)\n",
    "\n",
    "    pooled_variance = ((n1 - 1) * variance1 + (n2 - 1) * variance2) / (n1 + n2 - 2)\n",
    "\n",
    "    t_statistic = (mean1 - mean2) / ((pooled_variance * ((1 / n1) + (1 / n2))) ** 0.5)\n",
    "\n",
    "    return t_statistic\n",
    "\n",
    "def perform_t_test(group1, group2, alpha=0.05):\n",
    "    t_statistic = calculate_t_statistic(group1, group2)\n",
    "\n",
    "    degrees_of_freedom = len(group1) + len(group2) - 2\n",
    "\n",
    "    critical_t_value = np.t.ppf(1 - alpha / 2, degrees_of_freedom)\n",
    "\n",
    "    p_value = 2 * (1 - np.t.cdf(abs(t_statistic), degrees_of_freedom))\n",
    "\n",
    "    if abs(t_statistic) > critical_t_value or p_value < alpha:\n",
    "        print(\"The difference between the groups is statistically significant.\")\n",
    "    else:\n",
    "        print(\"There is no significant difference between the groups.\")\n",
    "\n",
    "group1 = [85, 90, 88, 78, 92, 95, 89, 82, 88, 75]\n",
    "group2 = [78, 80, 85, 76, 83, 88, 80, 79, 82, 80]\n",
    "\n",
    "perform_t_test(group1, group2)\n"
   ]
  }
 ],
 "metadata": {
  "kernelspec": {
   "display_name": "Python 3",
   "language": "python",
   "name": "python3"
  },
  "language_info": {
   "codemirror_mode": {
    "name": "ipython",
    "version": 3
   },
   "file_extension": ".py",
   "mimetype": "text/x-python",
   "name": "python",
   "nbconvert_exporter": "python",
   "pygments_lexer": "ipython3",
   "version": "3.11.8"
  }
 },
 "nbformat": 4,
 "nbformat_minor": 2
}
