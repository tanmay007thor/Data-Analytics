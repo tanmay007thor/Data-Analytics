{
 "cells": [
  {
   "cell_type": "code",
   "execution_count": 188,
   "metadata": {},
   "outputs": [
    {
     "data": {
      "text/plain": [
       "'2.14.0'"
      ]
     },
     "execution_count": 188,
     "metadata": {},
     "output_type": "execute_result"
    }
   ],
   "source": [
    "import numpy as np\n",
    "import pandas as pd\n",
    "import tensorflow as tf\n",
    "tf.__version__"
   ]
  },
  {
   "cell_type": "markdown",
   "metadata": {},
   "source": []
  },
  {
   "cell_type": "code",
   "execution_count": 189,
   "metadata": {},
   "outputs": [],
   "source": [
    "dataset = pd.read_csv('./Churn_Modelling.csv')\n",
    "x = dataset.iloc[:, 3:-1].values\n",
    "y = dataset.iloc[:, -1].values"
   ]
  },
  {
   "cell_type": "code",
   "execution_count": 190,
   "metadata": {},
   "outputs": [],
   "source": [
    "from sklearn.preprocessing import LabelEncoder\n",
    "le = LabelEncoder()\n",
    "x[:, 2] = le.fit_transform(x[:, 2])\n"
   ]
  },
  {
   "cell_type": "code",
   "execution_count": 191,
   "metadata": {},
   "outputs": [
    {
     "data": {
      "text/plain": [
       "array([[1.0, 0.0, 0.0, ..., 1, 1, 101348.88],\n",
       "       [0.0, 0.0, 1.0, ..., 0, 1, 112542.58],\n",
       "       [1.0, 0.0, 0.0, ..., 1, 0, 113931.57],\n",
       "       ...,\n",
       "       [1.0, 0.0, 0.0, ..., 0, 1, 42085.58],\n",
       "       [0.0, 1.0, 0.0, ..., 1, 0, 92888.52],\n",
       "       [1.0, 0.0, 0.0, ..., 1, 0, 38190.78]], dtype=object)"
      ]
     },
     "execution_count": 191,
     "metadata": {},
     "output_type": "execute_result"
    }
   ],
   "source": [
    "from sklearn.compose import ColumnTransformer\n",
    "from sklearn.preprocessing import OneHotEncoder\n",
    "ct = ColumnTransformer(transformers=[('encoder', OneHotEncoder(), [1])], remainder='passthrough')\n",
    "x = np.array(ct.fit_transform(x))\n",
    "x"
   ]
  },
  {
   "cell_type": "code",
   "execution_count": 192,
   "metadata": {},
   "outputs": [
    {
     "name": "stdout",
     "output_type": "stream",
     "text": [
      "[[0.0 0.0 1.0 ... 1 0 163830.64]\n",
      " [0.0 1.0 0.0 ... 1 1 57098.0]\n",
      " [1.0 0.0 0.0 ... 1 0 185630.76]\n",
      " ...\n",
      " [1.0 0.0 0.0 ... 1 0 181429.87]\n",
      " [0.0 0.0 1.0 ... 1 1 148750.16]\n",
      " [0.0 1.0 0.0 ... 1 0 118855.26]]\n",
      "[0 0 0 ... 0 0 1]\n",
      "object int64\n"
     ]
    }
   ],
   "source": [
    "from sklearn.model_selection import train_test_split\n",
    "X_train, X_test, y_train, y_test = train_test_split(x, y, test_size = 0.2, random_state = 0)\n",
    "print(X_train)\n",
    "print(y_train)\n",
    "print(X_train.dtype, y_train.dtype)\n",
    "X_train = X_train.astype('float32')\n",
    "\n"
   ]
  },
  {
   "cell_type": "code",
   "execution_count": 193,
   "metadata": {},
   "outputs": [],
   "source": [
    "# from sklearn.preprocessing import StandardScaler\n",
    "# sc = StandardScaler()\n",
    "# X_train = sc.fit_transform(X_train)\n",
    "# X_test = sc.transform(X_test)\n",
    "# print(X_train)\n"
   ]
  },
  {
   "cell_type": "code",
   "execution_count": 194,
   "metadata": {},
   "outputs": [
    {
     "name": "stdout",
     "output_type": "stream",
     "text": [
      "Epoch 1/100\n"
     ]
    },
    {
     "name": "stdout",
     "output_type": "stream",
     "text": [
      "250/250 [==============================] - 1s 2ms/step - loss: 824.5922 - accuracy: 0.6134\n",
      "Epoch 2/100\n",
      "250/250 [==============================] - 0s 2ms/step - loss: 28.2049 - accuracy: 0.6736\n",
      "Epoch 3/100\n",
      "250/250 [==============================] - 0s 2ms/step - loss: 23.7209 - accuracy: 0.6775\n",
      "Epoch 4/100\n",
      "250/250 [==============================] - 0s 2ms/step - loss: 20.0261 - accuracy: 0.6744\n",
      "Epoch 5/100\n",
      "250/250 [==============================] - 0s 2ms/step - loss: 21.7300 - accuracy: 0.6755\n",
      "Epoch 6/100\n",
      "250/250 [==============================] - 0s 2ms/step - loss: 15.8714 - accuracy: 0.6789\n",
      "Epoch 7/100\n",
      "250/250 [==============================] - 0s 2ms/step - loss: 16.6621 - accuracy: 0.6796\n",
      "Epoch 8/100\n",
      "250/250 [==============================] - 0s 2ms/step - loss: 15.9151 - accuracy: 0.6794\n",
      "Epoch 9/100\n",
      "250/250 [==============================] - 0s 2ms/step - loss: 21.8460 - accuracy: 0.6786\n",
      "Epoch 10/100\n",
      "250/250 [==============================] - 0s 2ms/step - loss: 19.9500 - accuracy: 0.6845\n",
      "Epoch 11/100\n",
      "250/250 [==============================] - 0s 2ms/step - loss: 24.4290 - accuracy: 0.6821\n",
      "Epoch 12/100\n",
      "250/250 [==============================] - 0s 2ms/step - loss: 20.6782 - accuracy: 0.6820\n",
      "Epoch 13/100\n",
      "250/250 [==============================] - 0s 2ms/step - loss: 20.5658 - accuracy: 0.6831\n",
      "Epoch 14/100\n",
      "250/250 [==============================] - 0s 2ms/step - loss: 19.9951 - accuracy: 0.6781\n",
      "Epoch 15/100\n",
      "250/250 [==============================] - 0s 2ms/step - loss: 22.0337 - accuracy: 0.6810\n",
      "Epoch 16/100\n",
      "250/250 [==============================] - 0s 2ms/step - loss: 17.9818 - accuracy: 0.6855\n",
      "Epoch 17/100\n",
      "250/250 [==============================] - 0s 2ms/step - loss: 20.0474 - accuracy: 0.6829\n",
      "Epoch 18/100\n",
      "250/250 [==============================] - 0s 2ms/step - loss: 18.0772 - accuracy: 0.6812\n",
      "Epoch 19/100\n",
      "250/250 [==============================] - 0s 2ms/step - loss: 15.0670 - accuracy: 0.6848\n",
      "Epoch 20/100\n",
      "250/250 [==============================] - 0s 2ms/step - loss: 15.3943 - accuracy: 0.6829\n",
      "Epoch 21/100\n",
      "250/250 [==============================] - 0s 2ms/step - loss: 17.6408 - accuracy: 0.6845\n",
      "Epoch 22/100\n",
      "250/250 [==============================] - 0s 2ms/step - loss: 21.2963 - accuracy: 0.6779\n",
      "Epoch 23/100\n",
      "250/250 [==============================] - 0s 2ms/step - loss: 18.8773 - accuracy: 0.6842\n",
      "Epoch 24/100\n",
      "250/250 [==============================] - 0s 2ms/step - loss: 12.2676 - accuracy: 0.6874\n",
      "Epoch 25/100\n",
      "250/250 [==============================] - 0s 2ms/step - loss: 12.5233 - accuracy: 0.6902\n",
      "Epoch 26/100\n",
      "250/250 [==============================] - 0s 2ms/step - loss: 17.7575 - accuracy: 0.6859\n",
      "Epoch 27/100\n",
      "250/250 [==============================] - 1s 2ms/step - loss: 16.0118 - accuracy: 0.6796\n",
      "Epoch 28/100\n",
      "250/250 [==============================] - 0s 2ms/step - loss: 16.5712 - accuracy: 0.6810\n",
      "Epoch 29/100\n",
      "250/250 [==============================] - 0s 2ms/step - loss: 19.9208 - accuracy: 0.6783\n",
      "Epoch 30/100\n",
      "250/250 [==============================] - 0s 2ms/step - loss: 16.0026 - accuracy: 0.6820\n",
      "Epoch 31/100\n",
      "250/250 [==============================] - 0s 2ms/step - loss: 14.6086 - accuracy: 0.6827\n",
      "Epoch 32/100\n",
      "250/250 [==============================] - 0s 2ms/step - loss: 12.8867 - accuracy: 0.6866\n",
      "Epoch 33/100\n",
      "250/250 [==============================] - 0s 2ms/step - loss: 18.1026 - accuracy: 0.6824\n",
      "Epoch 34/100\n",
      "250/250 [==============================] - 0s 2ms/step - loss: 18.0466 - accuracy: 0.6839\n",
      "Epoch 35/100\n",
      "250/250 [==============================] - 0s 2ms/step - loss: 15.8441 - accuracy: 0.6867\n",
      "Epoch 36/100\n",
      "250/250 [==============================] - 0s 2ms/step - loss: 14.8723 - accuracy: 0.6859\n",
      "Epoch 37/100\n",
      "250/250 [==============================] - 0s 2ms/step - loss: 14.1875 - accuracy: 0.6885\n",
      "Epoch 38/100\n",
      "250/250 [==============================] - 0s 2ms/step - loss: 17.3946 - accuracy: 0.6800\n",
      "Epoch 39/100\n",
      "250/250 [==============================] - 0s 2ms/step - loss: 12.3629 - accuracy: 0.6841\n",
      "Epoch 40/100\n",
      "250/250 [==============================] - 0s 2ms/step - loss: 16.5933 - accuracy: 0.6870\n",
      "Epoch 41/100\n",
      "250/250 [==============================] - 0s 2ms/step - loss: 19.7802 - accuracy: 0.6865\n",
      "Epoch 42/100\n",
      "250/250 [==============================] - 0s 2ms/step - loss: 17.7226 - accuracy: 0.6851\n",
      "Epoch 43/100\n",
      "250/250 [==============================] - 0s 2ms/step - loss: 13.3449 - accuracy: 0.6879\n",
      "Epoch 44/100\n",
      "250/250 [==============================] - 0s 2ms/step - loss: 14.2344 - accuracy: 0.6873\n",
      "Epoch 45/100\n",
      "250/250 [==============================] - 1s 2ms/step - loss: 15.3436 - accuracy: 0.6939\n",
      "Epoch 46/100\n",
      "250/250 [==============================] - 0s 2ms/step - loss: 21.2007 - accuracy: 0.6800\n",
      "Epoch 47/100\n",
      "250/250 [==============================] - 0s 2ms/step - loss: 13.3379 - accuracy: 0.6858\n",
      "Epoch 48/100\n",
      "250/250 [==============================] - 1s 2ms/step - loss: 14.5864 - accuracy: 0.6877\n",
      "Epoch 49/100\n",
      "250/250 [==============================] - 0s 2ms/step - loss: 16.6504 - accuracy: 0.6814\n",
      "Epoch 50/100\n",
      "250/250 [==============================] - 1s 2ms/step - loss: 12.3766 - accuracy: 0.6923\n",
      "Epoch 51/100\n",
      "250/250 [==============================] - 0s 2ms/step - loss: 13.5293 - accuracy: 0.6939\n",
      "Epoch 52/100\n",
      "250/250 [==============================] - 0s 2ms/step - loss: 13.5966 - accuracy: 0.6911\n",
      "Epoch 53/100\n",
      "250/250 [==============================] - 0s 2ms/step - loss: 9.9421 - accuracy: 0.6965\n",
      "Epoch 54/100\n",
      "250/250 [==============================] - 0s 2ms/step - loss: 17.4453 - accuracy: 0.6871\n",
      "Epoch 55/100\n",
      "250/250 [==============================] - 1s 2ms/step - loss: 12.7100 - accuracy: 0.6967\n",
      "Epoch 56/100\n",
      "250/250 [==============================] - 0s 2ms/step - loss: 13.9034 - accuracy: 0.6944\n",
      "Epoch 57/100\n",
      "250/250 [==============================] - 1s 2ms/step - loss: 14.0256 - accuracy: 0.6985\n",
      "Epoch 58/100\n",
      "250/250 [==============================] - 0s 2ms/step - loss: 11.7313 - accuracy: 0.6966\n",
      "Epoch 59/100\n",
      "250/250 [==============================] - 0s 2ms/step - loss: 16.2169 - accuracy: 0.6888\n",
      "Epoch 60/100\n",
      "250/250 [==============================] - 1s 2ms/step - loss: 16.0578 - accuracy: 0.6871\n",
      "Epoch 61/100\n",
      "250/250 [==============================] - 1s 2ms/step - loss: 12.6210 - accuracy: 0.6917\n",
      "Epoch 62/100\n",
      "250/250 [==============================] - 1s 3ms/step - loss: 12.4284 - accuracy: 0.6900\n",
      "Epoch 63/100\n",
      "250/250 [==============================] - 1s 2ms/step - loss: 12.7793 - accuracy: 0.6917\n",
      "Epoch 64/100\n",
      "250/250 [==============================] - 0s 2ms/step - loss: 13.6266 - accuracy: 0.6990\n",
      "Epoch 65/100\n",
      "250/250 [==============================] - 0s 2ms/step - loss: 12.2835 - accuracy: 0.6870\n",
      "Epoch 66/100\n",
      "250/250 [==============================] - 0s 2ms/step - loss: 13.2554 - accuracy: 0.6835\n",
      "Epoch 67/100\n",
      "250/250 [==============================] - 1s 3ms/step - loss: 16.8410 - accuracy: 0.6869\n",
      "Epoch 68/100\n",
      "250/250 [==============================] - 1s 3ms/step - loss: 11.4911 - accuracy: 0.6967\n",
      "Epoch 69/100\n",
      "250/250 [==============================] - 1s 3ms/step - loss: 15.7287 - accuracy: 0.6967\n",
      "Epoch 70/100\n",
      "250/250 [==============================] - 1s 4ms/step - loss: 12.8983 - accuracy: 0.6835\n",
      "Epoch 71/100\n",
      "250/250 [==============================] - 1s 3ms/step - loss: 10.6898 - accuracy: 0.6957\n",
      "Epoch 72/100\n",
      "250/250 [==============================] - 1s 3ms/step - loss: 12.2085 - accuracy: 0.6982\n",
      "Epoch 73/100\n",
      "250/250 [==============================] - 1s 3ms/step - loss: 11.8576 - accuracy: 0.6927\n",
      "Epoch 74/100\n",
      "250/250 [==============================] - 1s 3ms/step - loss: 14.2943 - accuracy: 0.6889\n",
      "Epoch 75/100\n",
      "250/250 [==============================] - 1s 3ms/step - loss: 12.9782 - accuracy: 0.6960\n",
      "Epoch 76/100\n",
      "250/250 [==============================] - 1s 3ms/step - loss: 13.6509 - accuracy: 0.6970\n",
      "Epoch 77/100\n",
      "250/250 [==============================] - 1s 2ms/step - loss: 12.0649 - accuracy: 0.6911\n",
      "Epoch 78/100\n",
      "250/250 [==============================] - 1s 3ms/step - loss: 12.3331 - accuracy: 0.6971\n",
      "Epoch 79/100\n",
      "250/250 [==============================] - 1s 2ms/step - loss: 12.1856 - accuracy: 0.6884\n",
      "Epoch 80/100\n",
      "250/250 [==============================] - 0s 2ms/step - loss: 13.3304 - accuracy: 0.7041\n",
      "Epoch 81/100\n",
      "250/250 [==============================] - 0s 2ms/step - loss: 12.4597 - accuracy: 0.6914\n",
      "Epoch 82/100\n",
      "250/250 [==============================] - 0s 2ms/step - loss: 9.7154 - accuracy: 0.6986\n",
      "Epoch 83/100\n",
      "250/250 [==============================] - 1s 2ms/step - loss: 10.0908 - accuracy: 0.6925\n",
      "Epoch 84/100\n",
      "250/250 [==============================] - 0s 2ms/step - loss: 11.1574 - accuracy: 0.6976\n",
      "Epoch 85/100\n",
      "250/250 [==============================] - 0s 2ms/step - loss: 10.5642 - accuracy: 0.6919\n",
      "Epoch 86/100\n",
      "250/250 [==============================] - 0s 2ms/step - loss: 12.8187 - accuracy: 0.6919\n",
      "Epoch 87/100\n",
      "250/250 [==============================] - 0s 2ms/step - loss: 10.1179 - accuracy: 0.7053\n",
      "Epoch 88/100\n",
      "250/250 [==============================] - 0s 2ms/step - loss: 16.1040 - accuracy: 0.6835\n",
      "Epoch 89/100\n",
      "250/250 [==============================] - 0s 2ms/step - loss: 12.7486 - accuracy: 0.6976\n",
      "Epoch 90/100\n",
      "250/250 [==============================] - 0s 2ms/step - loss: 9.1618 - accuracy: 0.6992\n",
      "Epoch 91/100\n",
      "250/250 [==============================] - 0s 2ms/step - loss: 10.4601 - accuracy: 0.6916\n",
      "Epoch 92/100\n",
      "250/250 [==============================] - 0s 2ms/step - loss: 9.5481 - accuracy: 0.6869\n",
      "Epoch 93/100\n",
      "250/250 [==============================] - 0s 2ms/step - loss: 11.8939 - accuracy: 0.6904\n",
      "Epoch 94/100\n",
      "250/250 [==============================] - 0s 2ms/step - loss: 8.0030 - accuracy: 0.7106\n",
      "Epoch 95/100\n",
      "250/250 [==============================] - 1s 2ms/step - loss: 9.8898 - accuracy: 0.7019\n",
      "Epoch 96/100\n",
      "250/250 [==============================] - 0s 2ms/step - loss: 14.4347 - accuracy: 0.6967\n",
      "Epoch 97/100\n",
      "250/250 [==============================] - 0s 2ms/step - loss: 9.9666 - accuracy: 0.7063\n",
      "Epoch 98/100\n",
      "250/250 [==============================] - 0s 2ms/step - loss: 7.9962 - accuracy: 0.7028\n",
      "Epoch 99/100\n",
      "250/250 [==============================] - 0s 2ms/step - loss: 10.0589 - accuracy: 0.7010\n",
      "Epoch 100/100\n",
      "250/250 [==============================] - 0s 2ms/step - loss: 11.2105 - accuracy: 0.6976\n"
     ]
    },
    {
     "data": {
      "text/plain": [
       "<keras.src.callbacks.History at 0x195f5d2bad0>"
      ]
     },
     "execution_count": 194,
     "metadata": {},
     "output_type": "execute_result"
    }
   ],
   "source": [
    "ann = tf.keras.models.Sequential()\n",
    "ann.add(tf.keras.layers.Dense(units=6, activation='relu'))\n",
    "ann.add(tf.keras.layers.Dense(units=6, activation='relu'))\n",
    "ann.add(tf.keras.layers.Dense(units=1, activation='sigmoid'))\n",
    "ann.compile(optimizer = 'adam', loss = 'binary_crossentropy', metrics = ['accuracy'])\n",
    "ann.fit(X_train, y_train, batch_size = 32, epochs = 100)"
   ]
  },
  {
   "cell_type": "code",
   "execution_count": 195,
   "metadata": {},
   "outputs": [],
   "source": [
    "print(ann.predict(sc.transform([[1, 0, 0, 600, 1, 40, 3, 60000, 2, 1, 1, 50000]])) > 0.5)\n"
   ]
  },
  {
   "cell_type": "code",
   "execution_count": 196,
   "metadata": {},
   "outputs": [
    {
     "name": "stdout",
     "output_type": "stream",
     "text": [
      "float32\n"
     ]
    },
    {
     "name": "stdout",
     "output_type": "stream",
     "text": [
      "63/63 [==============================] - 0s 1ms/step\n",
      "[[0 0]\n",
      " [0 1]\n",
      " [0 0]\n",
      " ...\n",
      " [0 0]\n",
      " [0 0]\n",
      " [0 0]]\n"
     ]
    }
   ],
   "source": [
    "\n",
    "X_test = X_test.astype('float32')\n",
    "print(X_test.dtype)\n",
    "y_pred = ann.predict(X_test)\n",
    "y_pred = (y_pred > 0.5)\n",
    "print(np.concatenate((y_pred.reshape(len(y_pred),1), y_test.reshape(len(y_test),1)),1))\n"
   ]
  },
  {
   "cell_type": "code",
   "execution_count": 197,
   "metadata": {},
   "outputs": [
    {
     "name": "stdout",
     "output_type": "stream",
     "text": [
      "[[1589    6]\n",
      " [ 397    8]]\n"
     ]
    },
    {
     "data": {
      "text/plain": [
       "0.7985"
      ]
     },
     "execution_count": 197,
     "metadata": {},
     "output_type": "execute_result"
    }
   ],
   "source": [
    "from sklearn.metrics import confusion_matrix, accuracy_score\n",
    "cm = confusion_matrix(y_test, y_pred)\n",
    "print(cm)\n",
    "accuracy_score(y_test, y_pred)"
   ]
  }
 ],
 "metadata": {
  "kernelspec": {
   "display_name": "Python 3",
   "language": "python",
   "name": "python3"
  },
  "language_info": {
   "codemirror_mode": {
    "name": "ipython",
    "version": 3
   },
   "file_extension": ".py",
   "mimetype": "text/x-python",
   "name": "python",
   "nbconvert_exporter": "python",
   "pygments_lexer": "ipython3",
   "version": "3.11.8"
  }
 },
 "nbformat": 4,
 "nbformat_minor": 2
}
